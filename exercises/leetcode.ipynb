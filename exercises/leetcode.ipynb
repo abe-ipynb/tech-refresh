{
 "cells": [
  {
   "cell_type": "code",
   "execution_count": null,
   "metadata": {},
   "outputs": [],
   "source": [
    "### my first solution for largest good integer\n",
    "\n",
    "class Solution(object):\n",
    "    def largestGoodInteger(self, num):\n",
    "        best = ''\n",
    "        if len(num) < 3:\n",
    "            return ''\n",
    "        for i in range(len(num)-2):\n",
    "            if ((best == '' or int(num[i]) >= int(best[0]) ) and int(num[i]) == int(num[i+1]) == int(num[i+2])):\n",
    "                best = num[i:i+3]   \n",
    "        return best\n"
   ]
  }
 ],
 "metadata": {
  "language_info": {
   "name": "python"
  }
 },
 "nbformat": 4,
 "nbformat_minor": 2
}
