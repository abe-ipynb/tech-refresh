{
 "cells": [
  {
   "cell_type": "code",
   "execution_count": null,
   "metadata": {},
   "outputs": [],
   "source": [
    "### my first solution for largest good integer\n",
    "\n",
    "class Solution(object):\n",
    "    def largestGoodInteger(self, num):\n",
    "        best = ''\n",
    "        if len(num) < 3:\n",
    "            return ''\n",
    "        for i in range(len(num)-2):\n",
    "            if ((best == '' or int(num[i]) >= int(best[0]) ) and int(num[i]) == int(num[i+1]) == int(num[i+2])):\n",
    "                best = num[i:i+3]   \n",
    "        return best\n"
   ]
  },
  {
   "cell_type": "code",
   "execution_count": null,
   "metadata": {},
   "outputs": [],
   "source": [
    "### https://leetcode.com/problems/maximum-69-number/\n",
    "class Solution(object):\n",
    "    def maximum69Number (self, num):\n",
    "        txt = str(num)\n",
    "        idx = txt.find('6')\n",
    "        if(idx == -1):\n",
    "            return num\n",
    "        return int(txt[:idx] + '9' + txt[idx+1:])\n"
   ]
  },
  {
   "cell_type": "code",
   "execution_count": null,
   "metadata": {},
   "outputs": [],
   "source": [
    "# https://leetcode.com/problems/palindrome-number/\n",
    "class Solution(object):\n",
    "    def isPalindrome(self, x):\n",
    "        return str(x) == str(x)[::-1]"
   ]
  },
  {
   "cell_type": "code",
   "execution_count": null,
   "metadata": {},
   "outputs": [],
   "source": [
    "#https://leetcode.com/problems/longest-common-prefix/\n",
    "class Solution(object):\n",
    "    def longestCommonPrefix(self, strs):\n",
    "        ctr = 0\n",
    "        for i in range(min([len(w) for w in strs])):\n",
    "            if(len(set([w[i] for w in strs])) == 1):\n",
    "                ctr+=1\n",
    "            else:\n",
    "                return strs[0][:ctr]\n",
    "        return strs[0][:ctr]\n"
   ]
  },
  {
   "cell_type": "code",
   "execution_count": null,
   "metadata": {},
   "outputs": [],
   "source": [
    "#https://leetcode.com/problems/length-of-last-word\n",
    "class Solution(object):\n",
    "    def lengthOfLastWord(self, s):\n",
    "        s = s.rstrip()\n",
    "        idx = s.rfind(\" \")\n",
    "        return len(s)-idx-1"
   ]
  }
 ],
 "metadata": {
  "language_info": {
   "name": "python"
  }
 },
 "nbformat": 4,
 "nbformat_minor": 2
}
